{
 "cells": [
  {
   "cell_type": "markdown",
   "metadata": {},
   "source": [
    "<b> Creating an array like an array in Java using Python List </b>"
   ]
  },
  {
   "cell_type": "code",
   "execution_count": 87,
   "metadata": {},
   "outputs": [
    {
     "name": "stdout",
     "output_type": "stream",
     "text": [
      "[0, 0, 0, 0, 0, 0]\n",
      "1\n",
      "2\n",
      "3\n",
      "4\n",
      "5\n",
      "6\n",
      "[1, 2, 3, 4, 5, 6]\n"
     ]
    }
   ],
   "source": [
    "def arr(size):\n",
    "    lis=[]\n",
    "    i=0\n",
    "    while i<=size-1:\n",
    "        lis=lis+[0]\n",
    "        i+=1\n",
    "    return lis\n",
    "a=arr(6)\n",
    "print(a)\n",
    "\n",
    "for i in range(len(a)):\n",
    "    a[i]=int(input())\n",
    "\n",
    "print(a)\n"
   ]
  },
  {
   "cell_type": "markdown",
   "metadata": {},
   "source": [
    "# Linear Arrays"
   ]
  },
  {
   "cell_type": "markdown",
   "metadata": {},
   "source": [
    "<b>Task 1</b>"
   ]
  },
  {
   "cell_type": "code",
   "execution_count": 97,
   "metadata": {},
   "outputs": [
    {
     "name": "stdout",
     "output_type": "stream",
     "text": [
      "3\n",
      "[40, 50, 60, 0, 0, 0]\n"
     ]
    }
   ],
   "source": [
    "def shift_k(no_of_elements,array):\n",
    "    for i in range(len(array)):\n",
    "        if i>=(len(array)-no_of_elements):\n",
    "            array[i]=0\n",
    "        else:\n",
    "            array[i]=array[i+no_of_elements]\n",
    "    return array\n",
    "a=[10,20,30,40,50,60]\n",
    "a=shift_k(int(input()),a)\n",
    "print(a)"
   ]
  },
  {
   "cell_type": "markdown",
   "metadata": {},
   "source": [
    "<b> Task 2 </b>"
   ]
  },
  {
   "cell_type": "code",
   "execution_count": 91,
   "metadata": {},
   "outputs": [
    {
     "name": "stdout",
     "output_type": "stream",
     "text": [
      "[40, 50, 60, 10, 20, 30]\n"
     ]
    }
   ],
   "source": [
    "def rotate_k(a, k): \n",
    "    li = [] \n",
    "     \n",
    "    for i in range(k, len(a)): \n",
    "        li+=[a[i]]\n",
    "    for i in range(0,k):  \n",
    "        li+=[a[i]]\n",
    "          \n",
    "    return li \n",
    "  \n",
    "a = [10, 20, 30, 40, 50, 60]\n",
    "b=rotate_k(a, 3)\n",
    "print(b)"
   ]
  },
  {
   "cell_type": "markdown",
   "metadata": {},
   "source": [
    "Alternative way (a)"
   ]
  },
  {
   "cell_type": "code",
   "execution_count": 1,
   "metadata": {},
   "outputs": [
    {
     "name": "stdout",
     "output_type": "stream",
     "text": [
      "[50, 60, 10, 20, 30, 40]\n"
     ]
    }
   ],
   "source": [
    "def rotate_k_alt_a(a,k):\n",
    "    for j in range(0, k):\n",
    "        temp=a[0]\n",
    "        for i in range(0, len(a) - 1):\n",
    "            a[i] = a[i + 1]\n",
    "        a[len(a) -1] = temp\n",
    "    return a\n",
    " \n",
    "a = [10,20,30,40,50,60] \n",
    "b=rotate_k_alt_a(a,4)\n",
    "print(b)"
   ]
  },
  {
   "cell_type": "markdown",
   "metadata": {},
   "source": [
    "Alternative way (b)"
   ]
  },
  {
   "cell_type": "code",
   "execution_count": 86,
   "metadata": {},
   "outputs": [
    {
     "name": "stdout",
     "output_type": "stream",
     "text": [
      "[30, 40, 50, 60, 10, 20]\n"
     ]
    }
   ],
   "source": [
    "def rotate_k_alt_b(a,k):\n",
    "    return (a[k:] + a[:k])\n",
    " \n",
    "a = [10,20,30,40,50,60] \n",
    "b=rotate_k_alt_b(a,2)\n",
    "print(b)"
   ]
  },
  {
   "cell_type": "markdown",
   "metadata": {},
   "source": [
    "<b>Task 3</b>"
   ]
  },
  {
   "cell_type": "code",
   "execution_count": 52,
   "metadata": {},
   "outputs": [
    {
     "name": "stdout",
     "output_type": "stream",
     "text": [
      "[10, 20, 40, 50, 0, 0, 0]\n"
     ]
    }
   ],
   "source": [
    "def remove_element(source,size,idx):\n",
    "    new =[]\n",
    "    for i in range(len(source)):\n",
    "        if i+1!=idx:\n",
    "            new=new+[source[i]]\n",
    "    if len(new)!=size:\n",
    "        new=new+[0]\n",
    "    return new\n",
    "\n",
    "a = [10,20,30,40,50,0,0] \n",
    "b=remove_element(a,7,3)\n",
    "print(b)"
   ]
  },
  {
   "cell_type": "markdown",
   "metadata": {},
   "source": [
    "<b>Task 4</b>"
   ]
  },
  {
   "cell_type": "code",
   "execution_count": 58,
   "metadata": {},
   "outputs": [
    {
     "name": "stdout",
     "output_type": "stream",
     "text": [
      "[10, 30, 50, 0, 0, 0, 0, 0, 0]\n"
     ]
    }
   ],
   "source": [
    "def removeAll(source,size,element):\n",
    "    new =[]\n",
    "    for i in source:\n",
    "        if i!=element:\n",
    "            new=new+[i]\n",
    "    if len(source)!=len(new):\n",
    "        new=new+(len(source)-len(new))*[0]\n",
    "    return new\n",
    "\n",
    "a = [10,2,30,2,50,2,2,0,0] \n",
    "b=removeAll(a,7,2)\n",
    "print(b)"
   ]
  },
  {
   "cell_type": "markdown",
   "metadata": {},
   "source": [
    "Alternative way"
   ]
  },
  {
   "cell_type": "code",
   "execution_count": 8,
   "metadata": {},
   "outputs": [
    {
     "name": "stdout",
     "output_type": "stream",
     "text": [
      "[10, 30, 50, 0, 0, 0, 0, 0, 0]\n"
     ]
    }
   ],
   "source": [
    "def removeAll_alt(source,size,element):\n",
    "    new =[]\n",
    "    for i in source:\n",
    "        if i!=element:\n",
    "            new=new+[i]\n",
    "        else:\n",
    "            new=new+[0]\n",
    "    for j in range(len(new)):\n",
    "        for i in range(len(new)-j-1):\n",
    "            if new[i]==0:\n",
    "                t=new[i]\n",
    "                new[i]=new[i+1]\n",
    "                new[i+1]=t\n",
    "    return new\n",
    "\n",
    "a = [10,2,30,2,50,2,2,0,0] \n",
    "b=removeAll_alt(a,7,2)\n",
    "print(b)"
   ]
  },
  {
   "cell_type": "markdown",
   "metadata": {},
   "source": [
    "<b>Task 5</b>"
   ]
  },
  {
   "cell_type": "code",
   "execution_count": 10,
   "metadata": {},
   "outputs": [
    {
     "name": "stdout",
     "output_type": "stream",
     "text": [
      "True\n"
     ]
    }
   ],
   "source": [
    "def balance_check(source):\n",
    "    i=0\n",
    "    sum_source=0\n",
    "    while i<len(source):\n",
    "        sum_source=source[i]+sum_source\n",
    "        i+=1\n",
    "    if sum_source%2==0:\n",
    "        return True\n",
    "    else:\n",
    "        return False\n",
    "a = [1, 1, 1, 2, 1] \n",
    "b=balance_check(a)\n",
    "print(b)"
   ]
  },
  {
   "cell_type": "markdown",
   "metadata": {},
   "source": [
    "Alternate way (a)"
   ]
  },
  {
   "cell_type": "code",
   "execution_count": 38,
   "metadata": {},
   "outputs": [
    {
     "name": "stdout",
     "output_type": "stream",
     "text": [
      "False\n"
     ]
    }
   ],
   "source": [
    "def balance_check_alt_a(source):\n",
    "    i=0\n",
    "    sumA=0\n",
    "    sumB=0\n",
    "    while i<len(source):\n",
    "        if i<=len(source)//2:\n",
    "            sumA=source[i]+sumA\n",
    "        else:\n",
    "            sumB=source[i]+sumB\n",
    "        i+=1\n",
    "    if sumA==sumB:\n",
    "        return True\n",
    "    else:\n",
    "        i=0\n",
    "        sumA=0\n",
    "        sumB=0\n",
    "        while i<len(source):\n",
    "            if i>=len(source)//2:\n",
    "                sumA=source[i]+sumA\n",
    "            else:\n",
    "                sumB=source[i]+sumB\n",
    "            i+=1\n",
    "        if sumA==sumB:\n",
    "            return True\n",
    "        else:\n",
    "            return False\n",
    "a = [2, 1, 1, 2, 1] \n",
    "b=balance_check_alt_a(a)\n",
    "print(b)"
   ]
  },
  {
   "cell_type": "markdown",
   "metadata": {},
   "source": [
    "Alternate way (b)"
   ]
  },
  {
   "cell_type": "code",
   "execution_count": 43,
   "metadata": {},
   "outputs": [
    {
     "name": "stdout",
     "output_type": "stream",
     "text": [
      "True\n"
     ]
    }
   ],
   "source": [
    "def balance_check_alt_b(arr): \n",
    "  \n",
    "    i=0\n",
    "    total_sum=0\n",
    "    while i<len(arr):\n",
    "        total_sum+=arr[i]\n",
    "        i+=1\n",
    "    leftsum = total_sum/2\n",
    "    for num in arr: \n",
    "\n",
    "        total_sum -= num \n",
    "          \n",
    "        if leftsum == total_sum: \n",
    "            return True\n",
    "\n",
    "    return False\n",
    "      \n",
    "arr = [10, 3, 1, 2, 10] \n",
    "b=balance_check_alt_b(arr)\n",
    "print (b) \n",
    "  "
   ]
  },
  {
   "cell_type": "markdown",
   "metadata": {},
   "source": [
    "<b>Task 6</b>"
   ]
  },
  {
   "cell_type": "code",
   "execution_count": 76,
   "metadata": {},
   "outputs": [
    {
     "name": "stdout",
     "output_type": "stream",
     "text": [
      "4\n",
      "[0, 0, 0, 1, 0, 0, 2, 1, 0, 3, 2, 1, 4, 3, 2, 1]\n"
     ]
    }
   ],
   "source": [
    "def series(n=int(input())):\n",
    "    a=[]\n",
    "    j=1\n",
    "    while j <=n:\n",
    "        i=j\n",
    "        a+=(n-i)*[0]\n",
    "        while i>=1:\n",
    "            a+=[i]\n",
    "            i-=1\n",
    "        j+=1\n",
    "        i=n\n",
    "    return a\n",
    " \n",
    "b=series()\n",
    "print(b) "
   ]
  },
  {
   "cell_type": "markdown",
   "metadata": {},
   "source": [
    "Alternative way (a)"
   ]
  },
  {
   "cell_type": "code",
   "execution_count": 125,
   "metadata": {},
   "outputs": [
    {
     "name": "stdout",
     "output_type": "stream",
     "text": [
      "4\n",
      "[0, 0, 0, 1, 0, 0, 2, 1, 0, 3, 2, 1, 4, 3, 2, 1]\n"
     ]
    }
   ],
   "source": [
    "def series_alt_a(n=int(input())):\n",
    "    lis=[]\n",
    "    i=0\n",
    "    size=n*n\n",
    "    while i<=size-1:\n",
    "        lis=lis+[0]\n",
    "        i+=1\n",
    "        \n",
    "    j=1\n",
    "    while j<=n:\n",
    "        k=j\n",
    "        while k>0:\n",
    "            lis[n*j-k]=k\n",
    "            k-=1\n",
    "        j+=1\n",
    "    return lis\n",
    "b=series_alt_a()\n",
    "print(b) "
   ]
  },
  {
   "cell_type": "markdown",
   "metadata": {},
   "source": [
    "Alternative way (b)"
   ]
  },
  {
   "cell_type": "code",
   "execution_count": 93,
   "metadata": {},
   "outputs": [
    {
     "name": "stdout",
     "output_type": "stream",
     "text": [
      "4\n",
      "[0, 0, 0, 1, 0, 0, 2, 1, 0, 3, 2, 1, 4, 3, 2, 1]\n"
     ]
    }
   ],
   "source": [
    "def series_alt_b(n=int(input())):\n",
    "    lis=[]\n",
    "\n",
    "    j=1\n",
    "    while j<=n:\n",
    "        lis+=[0]*(n-j)\n",
    "        k=j\n",
    "        while k>0:\n",
    "            lis+=[k]\n",
    "            k-=1\n",
    "        j+=1\n",
    "    return lis\n",
    "b=series_alt_b()\n",
    "print(b) "
   ]
  },
  {
   "cell_type": "markdown",
   "metadata": {},
   "source": [
    "<b>Task 7</b>"
   ]
  },
  {
   "cell_type": "code",
   "execution_count": 137,
   "metadata": {},
   "outputs": [
    {
     "name": "stdout",
     "output_type": "stream",
     "text": [
      "10\n"
     ]
    }
   ],
   "source": [
    "def bunch(source): \n",
    "  \n",
    "    l = len(source) \n",
    "    count = 0\n",
    "    res = source[0] \n",
    "    \n",
    "    for i in range(l):           \n",
    "        cur_count = 1\n",
    "        \n",
    "        for j in range(i + 1, l):      \n",
    "            if (source[i] != source[j]): \n",
    "                break\n",
    "                \n",
    "            cur_count += 1\n",
    "            \n",
    "        if cur_count > count : \n",
    "            count = cur_count \n",
    "    \n",
    "    return count\n",
    "\n",
    "a =  [1,1,1,1,1,1,2, 2, 1, 1,1,1,1,1,1,1,1,1]\n",
    "b=bunch(a)\n",
    "print(b)"
   ]
  },
  {
   "cell_type": "markdown",
   "metadata": {},
   "source": [
    "<b>Task 8</b>"
   ]
  },
  {
   "cell_type": "code",
   "execution_count": 134,
   "metadata": {},
   "outputs": [
    {
     "name": "stdout",
     "output_type": "stream",
     "text": [
      "True\n"
     ]
    }
   ],
   "source": [
    "def repetition(source):\n",
    "    elements=[]\n",
    "    for i in source:\n",
    "        if i not in elements:\n",
    "            elements+=[i]\n",
    "    elements_occurence=[]\n",
    "    for i in range(len(elements)):\n",
    "        res=0\n",
    "        for j in range(len(source)):\n",
    "            if elements[i] == source[j]:\n",
    "                res+=1\n",
    "        elements_occurence += [res]\n",
    "    fin=0\n",
    "    for i in range(len(elements_occurence)):\n",
    "        for j in range(len(elements_occurence)): \n",
    "            if elements_occurence[i] == elements_occurence[j] and elements_occurence[i]>=2 and i!=j: \n",
    "                fin += 1\n",
    "                if fin==2:\n",
    "                    return True\n",
    "    return False\n",
    "a =  [4,5,6,6,6,4,3,6,4,4]\n",
    "b=repetition(a)\n",
    "print(b)"
   ]
  },
  {
   "cell_type": "markdown",
   "metadata": {},
   "source": [
    "# Circular Arrays"
   ]
  },
  {
   "cell_type": "markdown",
   "metadata": {},
   "source": [
    "<b>Task 1</b>"
   ]
  },
  {
   "cell_type": "code",
   "execution_count": 48,
   "metadata": {},
   "outputs": [
    {
     "name": "stdout",
     "output_type": "stream",
     "text": [
      "True\n"
     ]
    }
   ],
   "source": [
    "def palindrome(source,size,start):\n",
    "    a = source[start:len(source)]+source[:start+size-len(source)]\n",
    "    a = a + source[(start+size-len(source))-1::-1] + source[len(source)-1:start-1:-1]\n",
    "    \n",
    "    if a==a[::-1]:\n",
    "        return True\n",
    "    return False\n",
    "\n",
    "a =  [10,20,0,0,0,10,20,30,30,46]\n",
    "b=palindrome(a,7,5)\n",
    "print(b)"
   ]
  },
  {
   "cell_type": "markdown",
   "metadata": {},
   "source": [
    "Alternative way"
   ]
  },
  {
   "cell_type": "code",
   "execution_count": 11,
   "metadata": {},
   "outputs": [
    {
     "name": "stdout",
     "output_type": "stream",
     "text": [
      "False\n"
     ]
    }
   ],
   "source": [
    "def palindrome_alt(source,size,start):\n",
    "    lis=[]\n",
    "    i=0\n",
    "    while i<=size-1:\n",
    "        lis=lis+[0]\n",
    "        i+=1\n",
    "    i=0\n",
    "    while i<=size-1:\n",
    "        lis[i]=source[start]\n",
    "        i+=1\n",
    "        start=(start+1) % len(source)\n",
    "        \n",
    "    i=0\n",
    "    while i<=int(size/2):\n",
    "        if lis[i] != lis[len(lis)-i-1]:\n",
    "            return False\n",
    "        i+=1\n",
    "    return True\n",
    "a =  [10,20,0,0,0,10,20,30]\n",
    "b=palindrome_alt(a,5,5)\n",
    "print(b)"
   ]
  },
  {
   "cell_type": "markdown",
   "metadata": {},
   "source": [
    "<b>Task 2</b>"
   ]
  },
  {
   "cell_type": "code",
   "execution_count": 106,
   "metadata": {},
   "outputs": [
    {
     "name": "stdout",
     "output_type": "stream",
     "text": [
      "[10, 20, 40]\n"
     ]
    }
   ],
   "source": [
    "def common(source_1,start_1,size_1,source_2,start_2,size_2):\n",
    "    idx=start_1\n",
    "    i=0\n",
    "    li=[]\n",
    "    for i in range(size_1):\n",
    "        if source_1[idx] in source_2:\n",
    "            li+=[source_1[idx]]\n",
    "        idx+=1\n",
    "        if idx==len(source_1):\n",
    "            idx=0\n",
    "        i+=1\n",
    "        \n",
    "    return li\n",
    "a =  [40,50,0,0,0,10,20,30] \n",
    "b= [10,20,5,0,0,0,0,0,55,40,15,25]\n",
    "c=common(a,5,5,b,8,7)\n",
    "print(c)"
   ]
  },
  {
   "cell_type": "markdown",
   "metadata": {},
   "source": [
    "Alternative way"
   ]
  },
  {
   "cell_type": "code",
   "execution_count": 31,
   "metadata": {},
   "outputs": [
    {
     "name": "stdout",
     "output_type": "stream",
     "text": [
      "[10, 20, 40]\n"
     ]
    }
   ],
   "source": [
    "def common_alt(source_1,start_1,size_1,source_2,start_2,size_2):\n",
    "    index1=start_1\n",
    "    i=0\n",
    "    li=[]\n",
    "    while i<size_1:\n",
    "        j=0\n",
    "        index2=start_2\n",
    "        while j<size_2:\n",
    "            if source_1[index1] == source_2[index2]:\n",
    "                li+=[source_1[index1]]\n",
    "            index2=(index2+1) % len(source_2)\n",
    "            j+=1\n",
    "        index1=(index1+1) % len(source_1)    \n",
    "        i+=1\n",
    "    return li\n",
    "a =  [40,50,0,0,0,10,20,30] \n",
    "b= [10,20,5,0,0,0,0,0,55,40,15,25]\n",
    "c=common_alt(a,5,5,b,8,7)\n",
    "print(c)"
   ]
  }
 ],
 "metadata": {
  "kernelspec": {
   "display_name": "Python 3",
   "language": "python",
   "name": "python3"
  },
  "language_info": {
   "codemirror_mode": {
    "name": "ipython",
    "version": 3
   },
   "file_extension": ".py",
   "mimetype": "text/x-python",
   "name": "python",
   "nbconvert_exporter": "python",
   "pygments_lexer": "ipython3",
   "version": "3.7.4"
  }
 },
 "nbformat": 4,
 "nbformat_minor": 4
}
